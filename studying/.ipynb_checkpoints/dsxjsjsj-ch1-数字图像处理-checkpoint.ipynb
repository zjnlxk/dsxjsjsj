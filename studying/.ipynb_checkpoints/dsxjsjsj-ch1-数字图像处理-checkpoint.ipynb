{
 "cells": [
  {
   "cell_type": "markdown",
   "id": "juvenile-arrow",
   "metadata": {},
   "source": [
    "# *** 文档说明  ***\n",
    "\n",
    "动手学计算机视觉\n",
    "\n",
    "源码链接：https://github.com/Jackpopc/aiLearnNotes\n",
    "\n",
    "\n"
   ]
  },
  {
   "cell_type": "markdown",
   "id": "perceived-assignment",
   "metadata": {},
   "source": [
    "## 1一数字图像处理\n",
    "1.1 图像预处理之图像去噪\n",
    "图像去噪是指减少图像中造成的过程。现实中的图像会受到各种因素的影响而含有一定的噪声，\n",
    "噪声主要有以下几类：椒盐噪声、加性噪声、乘性噪声、高斯噪声。\n",
    "图像去噪的方法有很多种，其中均值滤波、中值滤波等比较基础且成熟，还有一些基于数学中偏微分方\n",
    "程的去噪方法，此外，还有基于频域的小波去噪方法。\n",
    "\n",
    "完整代码地址：\n",
    "https://github.com/jakpopc/aiLearnNotes/blob/master/computer_vision/image_denoising.py\n",
    "requirement:scikit-image/opencv/numpy"
   ]
  },
  {
   "cell_type": "code",
   "execution_count": 5,
   "id": "photographic-break",
   "metadata": {},
   "outputs": [],
   "source": [
    "#导包\n",
    "import cv2\n",
    "import numpy as np\n",
    "import skimage\n",
    "from skimage.util.dtype import convert"
   ]
  },
  {
   "cell_type": "code",
   "execution_count": 6,
   "id": "pretty-greene",
   "metadata": {},
   "outputs": [
    {
     "data": {
      "text/plain": [
       "-1"
      ]
     },
     "execution_count": 6,
     "metadata": {},
     "output_type": "execute_result"
    }
   ],
   "source": [
    "# 1读取图像\n",
    "\n",
    "img = cv2.imread(\"D:/data/Pascal Voc/VOCdevkit/VOC2007/JPEGImages/000002.jpg\")\n",
    "cv2.imshow(\"origin_img\",img)\n",
    "cv2.waitKey()\n"
   ]
  },
  {
   "cell_type": "code",
   "execution_count": 7,
   "id": "agricultural-extra",
   "metadata": {},
   "outputs": [
    {
     "data": {
      "text/plain": [
       "-1"
      ]
     },
     "execution_count": 7,
     "metadata": {},
     "output_type": "execute_result"
    }
   ],
   "source": [
    "# 2生成噪声图像\n",
    "# 方法一 就用Python第三方库scikit-image的random_noise添加噪声\n",
    "import skimage\n",
    "# mode 是可选参数，\n",
    "#'gaussian'：高斯噪声\n",
    "#'localvar'：局部var的高斯分布加性噪声、\n",
    "#'salt'：椒盐噪声;\n",
    "#'pepper':将随机像素替换为0(无符号图像)或-1(有符号图像);\n",
    "#'s&p':标准普尔将随机像素替换为1或低val，其中低val为0的无符号图像或-1的signedimages;\n",
    "#'speckle':使用out =图像+ n*图像的散斑乘噪声，其中n是具有指定均值和方差的均匀噪声。\n",
    "noise_img = skimage.util.random_noise(img, mode=\"gaussian\")\n",
    "cv2.imshow(\"gaussian\",noise_img)\n",
    "cv2.waitKey()\n"
   ]
  },
  {
   "cell_type": "code",
   "execution_count": 8,
   "id": "widespread-reservoir",
   "metadata": {
    "scrolled": true
   },
   "outputs": [
    {
     "name": "stderr",
     "output_type": "stream",
     "text": [
      "d:\\software\\anaconda\\envs\\pt\\lib\\site-packages\\ipykernel_launcher.py:6: FutureWarning: The use of this function is discouraged as its behavior may change dramatically in scikit-image 1.0. This function will be removedin scikit-image 1.0.\n",
      "  \n"
     ]
    },
    {
     "data": {
      "text/plain": [
       "-1"
      ]
     },
     "execution_count": 8,
     "metadata": {},
     "output_type": "execute_result"
    }
   ],
   "source": [
    "# 方法二 用numpy自己生成噪声\n",
    "def add_noise(img):\n",
    "    img = np.multiply(img,1./255,dtype=np.float64)\n",
    "    mean,var=0,0.01\n",
    "    noise = np.random.normal(mean,var**0.5,img.shape)\n",
    "    img = convert(img,np.floating)\n",
    "    out = img + noise\n",
    "    return out\n",
    "noise_img = add_noise(img)\n",
    "cv2.imshow(\"noise_img\",img)\n",
    "cv2.waitKey()"
   ]
  },
  {
   "cell_type": "code",
   "execution_count": 9,
   "id": "fewer-imaging",
   "metadata": {},
   "outputs": [
    {
     "data": {
      "text/plain": [
       "-1"
      ]
     },
     "execution_count": 9,
     "metadata": {},
     "output_type": "execute_result"
    }
   ],
   "source": [
    "# 3图像去噪\n",
    "# 方法一：用cv2库的函数\n",
    "\n",
    "# 中值滤波\n",
    "denoise = cv2.medianBlur(img, ksize=3)\n",
    "cv2.imshow(\"medianBlur_img\",img)\n",
    "cv2.waitKey()\n",
    "# 均值滤波\n",
    "denoise = cv2.fastNlMeansDenoising(img,h=3)\n",
    "cv2.imshow(\"fastNlMeansDenoising\",img)\n",
    "cv2.waitKey()\n",
    "# 高斯滤波\n",
    "denoise = cv2.GaussianBlur(img,(3,3),0)\n",
    "cv2.imshow(\"GaussianBlur\",img)\n",
    "cv2.waitKey()"
   ]
  },
  {
   "cell_type": "code",
   "execution_count": 10,
   "id": "elementary-bread",
   "metadata": {},
   "outputs": [],
   "source": [
    "def compute_pixel_value(img, i, j, ksize, channel):\n",
    "    h_begin = max(0, i - ksize // 2)\n",
    "    h_end = min(img.shape[0], i + ksize // 2)\n",
    "    w_begin = max(0, j - ksize // 2)\n",
    "    w_end = min(img.shape[1], j + ksize // 2)\n",
    "    return np.median(img[h_begin:h_end, w_begin:w_end, channel])\n",
    "\n",
    "def denoise(img, ksize):\n",
    "    output = np.zeros(img.shape)\n",
    "    for i in range(img.shape[0]):\n",
    "        for j in range(img.shape[1]):\n",
    "            output[i, j, 0] = compute_pixel_value(img, i, j, ksize, 0)\n",
    "            output[i, j, 1] = compute_pixel_value(img, i, j, ksize, 1)\n",
    "            output[i, j, 2] = compute_pixel_value(img, i, j, ksize, 2)\n",
    "    return output\n"
   ]
  },
  {
   "cell_type": "code",
   "execution_count": 12,
   "id": "passive-webster",
   "metadata": {},
   "outputs": [
    {
     "data": {
      "text/plain": [
       "-1"
      ]
     },
     "execution_count": 12,
     "metadata": {},
     "output_type": "execute_result"
    }
   ],
   "source": [
    "output = denoise(noise_img, 3)\n",
    "cv2.imshow(\"noise_img\", output)\n",
    "cv2.waitKey()"
   ]
  },
  {
   "cell_type": "markdown",
   "id": "supposed-heavy",
   "metadata": {},
   "source": [
    "## 1.2 图像预处理之图像增强\n",
    "图像增强目的：增强图像中全局或局部有用的信息。\n",
    "计算机视觉两部分组成：特征提取+模型训练。\n",
    "\n",
    "图像增强方法：频域类、空间域类。\n",
    "频域法：利用傅里叶、小波变换把图像矩阵变换成二维信号，利用滤波器进行滤波。\n",
    "    低通滤波--去除噪声；高通滤波--增强边缘。\n",
    "空间域方法： 直方图均衡化、滤波\n",
    "基于滤波算法：均值滤波、中值滤波、高斯滤波。"
   ]
  },
  {
   "cell_type": "code",
   "execution_count": null,
   "id": "registered-australian",
   "metadata": {},
   "outputs": [],
   "source": [
    "直方图均衡化：\n",
    "将像素从小到大排序，统计像素概率和累积概率，用灰度级*累计概率就是应身后的新像素的像素值。"
   ]
  },
  {
   "cell_type": "code",
   "execution_count": 19,
   "id": "built-special",
   "metadata": {},
   "outputs": [],
   "source": [
    "#导包\n",
    "import cv2\n",
    "from matplotlib import pyplot as plt"
   ]
  },
  {
   "cell_type": "code",
   "execution_count": 16,
   "id": "geological-casino",
   "metadata": {},
   "outputs": [
    {
     "data": {
      "text/plain": [
       "-1"
      ]
     },
     "execution_count": 16,
     "metadata": {},
     "output_type": "execute_result"
    }
   ],
   "source": [
    "# 读取图片\n",
    "img = cv2.imread(\"D:/data/Pascal Voc/VOCdevkit/VOC2007/JPEGImages/000002.jpg\")\n",
    "gray = cv2.cvtColor(img, cv2.COLOR_RGB2GRAY)\n",
    "cv2.imshow(\"gray\",gray)\n",
    "cv2.waitKey()"
   ]
  },
  {
   "cell_type": "code",
   "execution_count": 29,
   "id": "private-palestinian",
   "metadata": {},
   "outputs": [],
   "source": [
    "# opencv calcHist函数传入5个参数：\n",
    "# images：图像\n",
    "# channels：通道\n",
    "# mask：图像掩码，可以填写None\n",
    "# hisSize：灰度数目\n",
    "# ranges：回复分布区间\n",
    "def histogram(gray):\n",
    "    hist = cv2.calcHist([gray],[0],None,[256],[0.0,255.0])\n",
    "    plt.plot(range(len(hist)),hist)\n",
    "    plt.title(\"orgin\")\n",
    "    plt.xlabel(\"x axis caption\")\n",
    "    plt.ylabel(\"y axis acption\")\n",
    "    plt.show()"
   ]
  },
  {
   "cell_type": "code",
   "execution_count": 30,
   "id": "powered-volunteer",
   "metadata": {},
   "outputs": [
    {
     "data": {
      "image/png": "[encoded data removed]",
      "text/plain": [
       "<Figure size 432x288 with 1 Axes>"
      ]
     },
     "metadata": {
      "needs_background": "light"
     },
     "output_type": "display_data"
    }
   ],
   "source": [
    "histogram(gray)"
   ]
  },
  {
   "cell_type": "code",
   "execution_count": 28,
   "id": "current-somewhere",
   "metadata": {},
   "outputs": [
    {
     "data": {
      "image/png": "[encoded data removed]",
      "text/plain": [
       "<Figure size 432x288 with 1 Axes>"
      ]
     },
     "metadata": {
      "needs_background": "light"
     },
     "output_type": "display_data"
    },
    {
     "data": {
      "text/plain": [
       "-1"
      ]
     },
     "execution_count": 28,
     "metadata": {},
     "output_type": "execute_result"
    }
   ],
   "source": [
    "# 直方图均衡化\n",
    "dst = cv2.equalizeHist(gray)\n",
    "histogram(dst)\n",
    "cv2.imshow(\"dst\",dst)\n",
    "cv2.waitKey()"
   ]
  },
  {
   "cell_type": "markdown",
   "id": "further-charity",
   "metadata": {},
   "source": [
    "## 1.3 图像预处理之图像分割\n",
    "主要包括两方面：非语义分割、语义分割。\n",
    "非语义分割：只提取边缘。图像基础处理技术，不关注类别。 算法较多且成熟，研究时间长。\n",
    "非语义分割算法：阈值分割，区域分割（区域生长和区域分裂合并），聚类，边缘分割，直方图，水平集\n",
    "\n",
    "语义分割：不仅提取边缘像素级别，还要关注目标的类别。机器视觉技术。\n",
    "语义分割算法：Grab cut Mask Rcnn U-Net FCN SegNet"
   ]
  },
  {
   "cell_type": "code",
   "execution_count": null,
   "id": "wound-wheel",
   "metadata": {},
   "outputs": [],
   "source": [
    "2015年 UCLA 相位拉伸变换（PST）\n",
    "显著优点：速度快，精度高，思想简单，实现容易。\n",
    "主要步骤：非线性相位离散化、阈值化、形态学运算。\n"
   ]
  },
  {
   "cell_type": "code",
   "execution_count": 37,
   "id": "false-pencil",
   "metadata": {},
   "outputs": [],
   "source": [
    "# 导包\n",
    "import os\n",
    "import numpy as np\n",
    "import mahotas as mh\n",
    "import matplotlib.pylab as plt\n",
    "import cv2"
   ]
  },
  {
   "cell_type": "code",
   "execution_count": 38,
   "id": "material-invention",
   "metadata": {},
   "outputs": [],
   "source": [
    "# 定义全局变量\n",
    "L = 0.5\n",
    "S = 0.48\n",
    "W = 12.14\n",
    "LPF = 0.5\n",
    "Threshold_min = -1\n",
    "Threshold_max = 0.0019\n",
    "FLAG = 1 "
   ]
  },
  {
   "cell_type": "code",
   "execution_count": 39,
   "id": "ceramic-religion",
   "metadata": {},
   "outputs": [],
   "source": [
    "#计算公式中的核心参数r,θ\n",
    "#hypot() 返回欧几里德范数 sqrt(x*x + y*y)。\n",
    "def cart2pol(x,y):\n",
    "    theta = np.arctan2(y,x)# 角度\n",
    "    rho = np.hypot(x,y)#模长\n",
    "    return theta,rho"
   ]
  },
  {
   "cell_type": "code",
   "execution_count": null,
   "id": "equal-pierce",
   "metadata": {},
   "outputs": [],
   "source": [
    "# 生成变量p,q\n",
    "# np.linespace 创建等差数列\n",
    "#numpy.meshgrid()——生成网格点坐标矩阵\n",
    "x = np.linspace(-L,L,img.shape[0])\n",
    "y = np.linspace(-L,L,img.shape[1])\n",
    "X , Y = np.meshgrid(x,y)\n",
    "p,q = X.T,Y.T\n",
    "theta , rho = caet2pol(p,q)"
   ]
  },
  {
   "cell_type": "code",
   "execution_count": null,
   "id": "organizational-personality",
   "metadata": {},
   "outputs": [],
   "source": [
    "# FFT变换\n",
    "orig = np.fft.fft2(img)"
   ]
  },
  {
   "cell_type": "code",
   "execution_count": null,
   "id": "spatial-airport",
   "metadata": {},
   "outputs": [],
   "source": [
    "# 实现局部频响核\n",
    "# ** 乘方\n",
    "# power(x, y) 函数，计算 x 的 y 次方\n",
    "expo = np.fft.fftshift(np.exp(-np.power((np.divide(rho,math.sqrt(（LPF**2）/np.log(2))))，2))"
   ]
  },
  {
   "cell_type": "code",
   "execution_count": null,
   "id": "exotic-present",
   "metadata": {},
   "outputs": [],
   "source": [
    "# 相乘作图像平滑处理\n",
    "orig_filtered = np.real(np.fft.ifft2((np.multiply(orig,expo))))"
   ]
  },
  {
   "cell_type": "code",
   "execution_count": null,
   "id": "dynamic-harassment",
   "metadata": {},
   "outputs": [],
   "source": [
    "# 实现相位核\n",
    "# np.dot 向量点积（内积）和矩阵乘法\n",
    "# np.dot(x,y) 和 np.dot(y,x) 得到的结果是不一样的\n",
    "PST_Kernel_1 = np.multiply(np.dot(rho,w),np.arctan(np.dot(rho,w)))-0.5*np.log(1+np.power(np.dot(rho,w),2))\n",
    "PST_Kernel = PST_Kernel_1/np.max(PST_Kernel_1)*S"
   ]
  },
  {
   "cell_type": "code",
   "execution_count": null,
   "id": "upset-instrumentation",
   "metadata": {},
   "outputs": [],
   "source": [
    "# 前面实现的部分与相位核做乘积\n",
    "temp = np.multiply(np.fft.fftshift(np.exp(-1j* PST_Kernel)),np.fft.fft2(orig_filtered))"
   ]
  },
  {
   "cell_type": "code",
   "execution_count": null,
   "id": "fancy-consciousness",
   "metadata": {},
   "outputs": [],
   "source": [
    "# 逆快速傅里叶变换\n",
    "temp = np.multiply(np.fft.fftshift(np.exp(-1j* PST_kernel)),np.fft.fft2(Image_orig_filtered))\n",
    "orig_filtered_PST = np.fft.ifft2(temp)"
   ]
  },
  {
   "cell_type": "code",
   "execution_count": null,
   "id": "arabic-dinner",
   "metadata": {},
   "outputs": [],
   "source": [
    "# 角运算,得到变换图像的相位\n",
    "PHI_features = np.angle(Image_orig_filtered_PST)"
   ]
  },
  {
   "cell_type": "code",
   "execution_count": null,
   "id": "cooperative-commonwealth",
   "metadata": {},
   "outputs": [],
   "source": [
    "# 对图像进行阈值化处理，\n",
    "# np.amax 返回数组的最大值\n",
    "features = np.zeros((PHI_features.shape[0], PHI_features.shape[1]))\n",
    "features[PHI_features > Threshold_max] = 1\n",
    "features[PHI_features < Threshold_min] = 1\n",
    "features[I < (np.amax(I) / 20)] = 0"
   ]
  },
  {
   "cell_type": "code",
   "execution_count": null,
   "id": "optical-wyoming",
   "metadata": {},
   "outputs": [],
   "source": [
    "# 应用二进制形态学操作来清除转换后的图像,\n",
    "out = features\n",
    "out = mh.thin(out, 1)\n",
    "out = mh.bwperim(out, 4)\n",
    "out = mh.thin(out, 1)\n",
    "out = mh.erode(out, np.ones((1, 1)))"
   ]
  },
  {
   "cell_type": "code",
   "execution_count": 42,
   "id": "adverse-marble",
   "metadata": {},
   "outputs": [],
   "source": [
    "# PST函数\n",
    "def phase_stretch_transform(img, LPF, S, W, threshold_min, threshold_max, flag):\n",
    "    L = 0.5\n",
    "    x = np.linspace(-L, L, img.shape[0])\n",
    "    y = np.linspace(-L, L, img.shape[1])\n",
    "    [X1, Y1] = (np.meshgrid(x, y))\n",
    "    X = X1.T\n",
    "    Y = Y1.T\n",
    "    theta, rho = cart2pol(X, Y)\n",
    "    orig = ((np.fft.fft2(img)))\n",
    "    expo = np.fft.fftshift(np.exp(-np.power((np.divide(rho, math.sqrt((LPF ** 2) / np.log(2)))),2)))\n",
    "    orig_filtered = np.real(np.fft.ifft2((np.multiply(orig, expo))))\n",
    "    PST_Kernel_1 = np.multiply(np.dot(rho, W), np.arctan(np.dot(rho, W))) - 0.5 * np.log(1 + np.power(np.dot(rho, W), 2))\n",
    "    PST_Kernel = PST_Kernel_1 / np.max(PST_Kernel_1) * S\n",
    "    temp = np.multiply(np.fft.fftshift(np.exp(-1j * PST_Kernel)), np.fft.fft2(orig_filtered))\n",
    "    orig_filtered_PST = np.fft.ifft2(temp)\n",
    "    PHI_features = np.angle(orig_filtered_PST)\n",
    "    if flag == 0:\n",
    "        out = PHI_features\n",
    "    else:\n",
    "        features = np.zeros((PHI_features.shape[0], PHI_features.shape[1]))\n",
    "        features[PHI_features > threshold_max] = 1\n",
    "        features[PHI_features < threshold_min] = 1\n",
    "        features[img < (np.amax(img) / 20)] = 0\n",
    "        out = features\n",
    "        out = mh.thin(out, 1)\n",
    "        out = mh.bwperim(out, 4)\n",
    "        out = mh.thin(out, 1)\n",
    "        out = mh.erode(out, np.ones((1, 1)))\n",
    "    return out, PST_Kernel"
   ]
  },
  {
   "cell_type": "code",
   "execution_count": 45,
   "id": "focused-underwear",
   "metadata": {},
   "outputs": [],
   "source": [
    "# 主函数\n",
    "def main():\n",
    "    Image_orig = mh.imread(\"D:/data/Pascal Voc/VOCdevkit/VOC2007/JPEGImages/000002.jpg\")\n",
    "    if Image_orig.ndim == 3:\n",
    "        Image_orig_grey = mh.colors.rgb2grey(Image_orig)\n",
    "    else:\n",
    "        Image_orig_grey = Image_orig\n",
    "    edge, kernel = phase_stretch_transform(Image_orig_grey, LPF, S, W, Threshold_min,Threshold_max, FLAG)\n",
    "    Overlay = mh.overlay(Image_orig_grey, edge)\n",
    "    Edge = edge.astype(np.uint8)*255\n",
    "    plt.imshow(Edge)\n",
    "    plt.show()"
   ]
  },
  {
   "cell_type": "markdown",
   "id": "vanilla-hepatitis",
   "metadata": {},
   "source": [
    "## 1.4图像预处理之图像增广\n",
    "定义：随机改变训练样本可以降低模型对某些属性的依赖，从而提高模型的泛化能力；\n",
    "常用技术：\n",
    "镜像变换\n",
    "旋转\n",
    "缩放\n",
    "裁剪\n",
    "平移\n",
    "亮度修改\n",
    "添加噪声\n",
    "剪切\n",
    "变换颜色"
   ]
  },
  {
   "cell_type": "code",
   "execution_count": 2,
   "id": "disturbed-roller",
   "metadata": {},
   "outputs": [],
   "source": [
    "# 导包\n",
    "import cv2\n",
    "import numpy as np\n",
    "from skimage.util.dtype import convert"
   ]
  },
  {
   "cell_type": "code",
   "execution_count": 5,
   "id": "general-consciousness",
   "metadata": {},
   "outputs": [
    {
     "data": {
      "text/plain": [
       "-1"
      ]
     },
     "execution_count": 5,
     "metadata": {},
     "output_type": "execute_result"
    }
   ],
   "source": [
    "# 1. 读取图像\n",
    "img = cv2.imread(\"D:/data/Pascal Voc/VOCdevkit/VOC2007/JPEGImages/000023.jpg\")\n",
    "cv2.imshow(\"Origin\", img)\n",
    "cv2.waitKey()\n"
   ]
  },
  {
   "cell_type": "code",
   "execution_count": 6,
   "id": "seeing-financing",
   "metadata": {},
   "outputs": [],
   "source": [
    "generate_img = np.zeros(img.shape)\n"
   ]
  },
  {
   "cell_type": "code",
   "execution_count": 10,
   "id": "greater-highlight",
   "metadata": {},
   "outputs": [
    {
     "data": {
      "text/plain": [
       "-1"
      ]
     },
     "execution_count": 10,
     "metadata": {},
     "output_type": "execute_result"
    }
   ],
   "source": [
    "# 水平镜像\n",
    "h ,w = img.shape[0],img.shape[1] \n",
    "for i in range(h):\n",
    "    for j in range(w):\n",
    "        generate_img[i, w - 1 - j] = img[i, j]\n",
    "cv2.imshow(\"Ver\", generate_img)       \n",
    "# cv2.imshow(\"Ver\", generate_img.astype(np.uint8))\n",
    "cv2.waitKey()\n",
    "#备注：初始化的图像数据类型是numpy.float64，用opencv显示时无法正常显示，因此在显示时需\n",
    "#要用astype(np.uint8)把图像转化成numpy.uint8数据格式。"
   ]
  },
  {
   "cell_type": "code",
   "execution_count": null,
   "id": "reduced-english",
   "metadata": {},
   "outputs": [],
   "source": [
    "class ImageAugmented(object):\n",
    "    def __init__(self, path=\"D:/data/Pascal Voc/VOCdevkit/VOC2007/JPEGImages/000023.jpg\"):\n",
    "        self.img = cv2.imread(path)\n",
    "        self.h, self.w = self.img.shape[0], self.img.shape[1]\n",
    "\n",
    "    # 1. 镜像变换\n",
    "    def flip(self, flag=\"h\"):\n",
    "        generate_img = np.zeros(self.img.shape)\n",
    "        if flag == \"h\":\n",
    "            for i in range(self.h):\n",
    "                for j in range(self.w):\n",
    "                    generate_img[i, self.h - 1 - j] = self.img[i, j]\n",
    "        else:\n",
    "            for i in range(self.h):\n",
    "                for j in range(self.w):\n",
    "                    generate_img[self.h - 1 - i, j] = self.img[i, j]\n",
    "        return generate_img\n",
    "\n",
    "    # 2. 缩放\n",
    "    def _resize_img(self, shape=(100, 300)):\n",
    "        return cv2.resize(self.img, shape)\n",
    "\n",
    "    # 3. 旋转\n",
    "    def rotated(self):\n",
    "        center = cv2.getRotationMatrix2D((self.w / 2, self.h / 2), 45, 1)\n",
    "        return cv2.warpAffine(self.img, center, (self.w, self.h))\n",
    "\n",
    "    # 4. 平移\n",
    "    def translation(self, x_scale=100, y_scale=100):\n",
    "        move = np.float32([[1, 0, x_scale], [0, 1, y_scale]])\n",
    "        return cv2.warpAffine(self.img, move, (self.w, self.h))\n",
    "\n",
    "    # 5. 改变亮度\n",
    "    def change_light(self, alpha=1.5, scale=3):\n",
    "        return cv2.addWeighted(self.img, alpha, np.zeros(self.img.shape).astype(np.uint8), 1 - alpha, scale)\n",
    "\n",
    "    # 6. 添加噪声\n",
    "    def add_noise(self, mean=0, var=0.01):\n",
    "        img = np.multiply(self.img, 1. / 255, dtype=np.float64)\n",
    "        noise = np.random.normal(mean, var ** 0.5,\n",
    "                                 img.shape)\n",
    "        img = convert(img, np.floating)\n",
    "        out = img + noise\n",
    "        return out\n",
    "\n",
    "\n",
    "if __name__ == '__main__':\n",
    "    aug = ImageAugmented()\n",
    "    img = aug.translation()\n",
    "    cv2.imshow(\"img\", img)\n",
    "    cv2.waitKey()"
   ]
  },
  {
   "cell_type": "code",
   "execution_count": null,
   "id": "civic-bernard",
   "metadata": {},
   "outputs": [],
   "source": []
  },
  {
   "cell_type": "code",
   "execution_count": null,
   "id": "speaking-payday",
   "metadata": {},
   "outputs": [],
   "source": []
  },
  {
   "cell_type": "code",
   "execution_count": null,
   "id": "saved-integration",
   "metadata": {},
   "outputs": [],
   "source": []
  },
  {
   "cell_type": "code",
   "execution_count": null,
   "id": "applicable-peripheral",
   "metadata": {},
   "outputs": [],
   "source": []
  },
  {
   "cell_type": "code",
   "execution_count": null,
   "id": "suited-outside",
   "metadata": {},
   "outputs": [],
   "source": []
  },
  {
   "cell_type": "code",
   "execution_count": null,
   "id": "located-walnut",
   "metadata": {},
   "outputs": [],
   "source": []
  },
  {
   "cell_type": "code",
   "execution_count": null,
   "id": "alien-performer",
   "metadata": {},
   "outputs": [],
   "source": []
  }
 ],
 "metadata": {
  "kernelspec": {
   "display_name": "Python 3",
   "language": "python",
   "name": "python3"
  },
  "language_info": {
   "codemirror_mode": {
    "name": "ipython",
    "version": 3
   },
   "file_extension": ".py",
   "mimetype": "text/x-python",
   "name": "python",
   "nbconvert_exporter": "python",
   "pygments_lexer": "ipython3",
   "version": "3.6.12"
  }
 },
 "nbformat": 4,
 "nbformat_minor": 5
}
